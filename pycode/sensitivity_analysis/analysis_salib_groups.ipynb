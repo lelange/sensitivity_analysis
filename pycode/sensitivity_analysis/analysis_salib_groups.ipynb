{
 "cells": [
  {
   "cell_type": "markdown",
   "id": "d1dbea33",
   "metadata": {},
   "source": [
    "# First, Second, Second Closed and Total order of Grouped Factors"
   ]
  },
  {
   "cell_type": "code",
   "execution_count": 15,
   "id": "6152f1a2",
   "metadata": {},
   "outputs": [],
   "source": [
    "from SALib.sample import saltelli\n",
    "from SALib.analyze import sobol\n",
    "import numpy as np\n",
    "\n",
    "import pandas as pd\n",
    "import matplotlib.pyplot as plt\n",
    "\n",
    "from datetime import datetime, date\n",
    "import time\n",
    "\n",
    "import pickle\n",
    "import json\n",
    "\n",
    "import os\n",
    "import argparse"
   ]
  },
  {
   "cell_type": "code",
   "execution_count": 3,
   "id": "c1ac5e53",
   "metadata": {},
   "outputs": [],
   "source": [
    "N = 1024\n",
    "with open(f'Studies/SAlib/SAlib_saltelli_groups_{N}.pkl', 'rb') as f: \n",
    "    problem = pickle.load(f)\n",
    "    sim_out = pickle.load(f)\n",
    "    simulation_time = pickle.load(f)\n"
   ]
  },
  {
   "cell_type": "code",
   "execution_count": 4,
   "id": "aaa6748d",
   "metadata": {},
   "outputs": [],
   "source": [
    "#print(list(zip(problem['names'], problem['bounds'])))"
   ]
  },
  {
   "cell_type": "code",
   "execution_count": 5,
   "id": "20362698",
   "metadata": {},
   "outputs": [
    {
     "data": {
      "text/plain": [
       "(45056,)"
      ]
     },
     "execution_count": 5,
     "metadata": {},
     "output_type": "execute_result"
    }
   ],
   "source": [
    "\n",
    "def aggregate_output(sim_out, aggregation_function, output_no, keepdims = True):\n",
    "\n",
    "    if aggregation_function == \"max\":\n",
    "        output_agg = np.max(sim_out[:, :, output_no], axis = 1, keepdims = keepdims)\n",
    "    elif aggregation_function == \"sum\":\n",
    "        output_agg = np.sum(sim_out[:, :, output_no], axis = 1, keepdims=keepdims)\n",
    "    elif aggregation_function == \"mean\":\n",
    "        output_agg = np.mean(sim_out[:, :, output_no], axis = 1, keepdims=keepdims)\n",
    "    elif aggregation_function == \"mse\":\n",
    "        output_agg = ((np.array(sim_out[:, :, output_no]) - dataset[:, output_no])**2).mean(axis = 1, keepdims = keepdims)\n",
    "    #print(f\"Aggregated output is {aggregation_function} {output_compartment}.\")\n",
    "    return output_agg\n",
    "\n",
    "#output_agg = np.squeeze(output_agg) or keepdims to False\n"
   ]
  },
  {
   "cell_type": "markdown",
   "id": "d478245d",
   "metadata": {},
   "source": [
    "## Max infected"
   ]
  },
  {
   "cell_type": "code",
   "execution_count": 6,
   "id": "b22fce65",
   "metadata": {},
   "outputs": [
    {
     "name": "stdout",
     "output_type": "stream",
     "text": [
      "                                          ST   ST_conf\n",
      "dummy                               0.000000  0.000000\n",
      "incubation_time                     0.015346  0.002980\n",
      "serial_interval                     0.468477  0.060619\n",
      "infectious_mild_time                0.028958  0.003786\n",
      "hospitalized_to_ICU_time            0.026159  0.004079\n",
      "risk_of_infection_from_symptomatic  0.025005  0.004518\n",
      "seasonality                         0.029356  0.004892\n",
      "test_and_trace_capacity             0.000152  0.000044\n",
      "NPI_strength                        0.264061  0.042863\n",
      "NPI_start                           0.358174  0.053356\n",
      "hospitalized_to_home_time           0.000434  0.000086\n",
      "home_to_hospitalized_time           0.004440  0.000749\n",
      "ICU_to_home_time                    0.001127  0.000189\n",
      "ICU_to_death_time                   0.000802  0.000123\n",
      "infection_probability_from_contact  0.035812  0.006185\n",
      "relative_carrier_infectability      0.214376  0.032559\n",
      "asymptotic_cases_per_infectious     0.000435  0.000061\n",
      "hospitalized_cases_per_infectious   0.003103  0.000548\n",
      "ICU_cases_per_hospitalized          0.002899  0.000454\n",
      "deaths_per_ICU                      0.011822  0.002607\n",
      "init                                0.014072  0.002772\n",
      "                                          S1   S1_conf\n",
      "dummy                               0.000000  0.000000\n",
      "incubation_time                     0.008621  0.008589\n",
      "serial_interval                     0.271146  0.049863\n",
      "infectious_mild_time                0.009031  0.014704\n",
      "hospitalized_to_ICU_time            0.014751  0.017070\n",
      "risk_of_infection_from_symptomatic  0.017435  0.015656\n",
      "seasonality                         0.016545  0.014663\n",
      "test_and_trace_capacity             0.000012  0.001188\n",
      "NPI_strength                        0.123640  0.042795\n",
      "NPI_start                           0.154891  0.054780\n",
      "hospitalized_to_home_time           0.000965  0.001594\n",
      "home_to_hospitalized_time           0.000412  0.006082\n",
      "ICU_to_home_time                    0.001257  0.002973\n",
      "ICU_to_death_time                  -0.000563  0.002162\n",
      "infection_probability_from_contact  0.016761  0.013500\n",
      "relative_carrier_infectability      0.117603  0.033702\n",
      "asymptotic_cases_per_infectious     0.001069  0.001928\n",
      "hospitalized_cases_per_infectious  -0.000536  0.004720\n",
      "ICU_cases_per_hospitalized          0.004509  0.005180\n",
      "deaths_per_ICU                      0.000727  0.008732\n",
      "init                                0.012545  0.009841\n",
      "                                                              S2       S2_conf\n",
      "(dummy, incubation_time)                            0.000000e+00  1.369739e-17\n",
      "(dummy, serial_interval)                            0.000000e+00  1.038806e-16\n",
      "(dummy, infectious_mild_time)                       1.734723e-18  1.531094e-17\n",
      "(dummy, hospitalized_to_ICU_time)                   0.000000e+00  1.702455e-17\n",
      "(dummy, risk_of_infection_from_symptomatic)        -3.469447e-18  1.810502e-17\n",
      "...                                                          ...           ...\n",
      "(hospitalized_cases_per_infectious, deaths_per_...  3.736985e-03  8.233003e-03\n",
      "(hospitalized_cases_per_infectious, init)           3.982880e-03  7.997533e-03\n",
      "(ICU_cases_per_hospitalized, deaths_per_ICU)       -4.200371e-03  8.414913e-03\n",
      "(ICU_cases_per_hospitalized, init)                 -3.726558e-03  8.517479e-03\n",
      "(deaths_per_ICU, init)                              5.050972e-03  1.663198e-02\n",
      "\n",
      "[210 rows x 2 columns]\n"
     ]
    }
   ],
   "source": [
    "Y = aggregate_output(sim_out,\"max\", 0 , False)\n",
    "Y.shape\n",
    "\n",
    "Si = sobol.analyze(problem, Y, print_to_console=True)\n",
    "\n",
    "total_Si, first_Si, second_Si = Si.to_df()"
   ]
  },
  {
   "cell_type": "code",
   "execution_count": 7,
   "id": "d134c2a1",
   "metadata": {},
   "outputs": [
    {
     "name": "stdout",
     "output_type": "stream",
     "text": [
      "\\begin{tabular}{lrr}\n",
      " & ST & ST_conf \\\\\n",
      "serial_interval & 0.47 & 0.06 \\\\\n",
      "NPI_start & 0.36 & 0.05 \\\\\n",
      "NPI_strength & 0.26 & 0.04 \\\\\n",
      "relative_carrier_infectability & 0.21 & 0.03 \\\\\n",
      "infection_probability_from_contact & 0.04 & 0.01 \\\\\n",
      "seasonality & 0.03 & 0.00 \\\\\n",
      "infectious_mild_time & 0.03 & 0.00 \\\\\n",
      "hospitalized_to_ICU_time & 0.03 & 0.00 \\\\\n",
      "risk_of_infection_from_symptomatic & 0.03 & 0.00 \\\\\n",
      "incubation_time & 0.02 & 0.00 \\\\\n",
      "init & 0.01 & 0.00 \\\\\n",
      "deaths_per_ICU & 0.01 & 0.00 \\\\\n",
      "home_to_hospitalized_time & 0.00 & 0.00 \\\\\n",
      "hospitalized_cases_per_infectious & 0.00 & 0.00 \\\\\n",
      "ICU_cases_per_hospitalized & 0.00 & 0.00 \\\\\n",
      "ICU_to_home_time & 0.00 & 0.00 \\\\\n",
      "ICU_to_death_time & 0.00 & 0.00 \\\\\n",
      "asymptotic_cases_per_infectious & 0.00 & 0.00 \\\\\n",
      "hospitalized_to_home_time & 0.00 & 0.00 \\\\\n",
      "test_and_trace_capacity & 0.00 & 0.00 \\\\\n",
      "dummy & 0.00 & 0.00 \\\\\n",
      "\\end{tabular}\n",
      "\n"
     ]
    }
   ],
   "source": [
    "total_Si = total_Si.sort_values(\"ST\", ascending = False)\n",
    "print(total_Si.style.format(\"{:.2f}\").to_latex())"
   ]
  },
  {
   "cell_type": "code",
   "execution_count": 8,
   "id": "350635bd",
   "metadata": {},
   "outputs": [
    {
     "name": "stdout",
     "output_type": "stream",
     "text": [
      "\\begin{tabular}{lrr}\n",
      " & S1 & S1_conf \\\\\n",
      "serial_interval & 0.27 & 0.05 \\\\\n",
      "NPI_start & 0.15 & 0.05 \\\\\n",
      "NPI_strength & 0.12 & 0.04 \\\\\n",
      "relative_carrier_infectability & 0.12 & 0.03 \\\\\n",
      "risk_of_infection_from_symptomatic & 0.02 & 0.02 \\\\\n",
      "infection_probability_from_contact & 0.02 & 0.01 \\\\\n",
      "seasonality & 0.02 & 0.01 \\\\\n",
      "hospitalized_to_ICU_time & 0.01 & 0.02 \\\\\n",
      "init & 0.01 & 0.01 \\\\\n",
      "infectious_mild_time & 0.01 & 0.01 \\\\\n",
      "incubation_time & 0.01 & 0.01 \\\\\n",
      "ICU_cases_per_hospitalized & 0.00 & 0.01 \\\\\n",
      "ICU_to_home_time & 0.00 & 0.00 \\\\\n",
      "asymptotic_cases_per_infectious & 0.00 & 0.00 \\\\\n",
      "hospitalized_to_home_time & 0.00 & 0.00 \\\\\n",
      "deaths_per_ICU & 0.00 & 0.01 \\\\\n",
      "home_to_hospitalized_time & 0.00 & 0.01 \\\\\n",
      "test_and_trace_capacity & 0.00 & 0.00 \\\\\n",
      "dummy & 0.00 & 0.00 \\\\\n",
      "hospitalized_cases_per_infectious & -0.00 & 0.00 \\\\\n",
      "ICU_to_death_time & -0.00 & 0.00 \\\\\n",
      "\\end{tabular}\n",
      "\n"
     ]
    }
   ],
   "source": [
    "first_Si = first_Si.sort_values(\"S1\", ascending = False)\n",
    "print(first_Si.style.format(\"{:.2f}\").to_latex())"
   ]
  },
  {
   "cell_type": "code",
   "execution_count": 11,
   "id": "0a3e8846",
   "metadata": {},
   "outputs": [
    {
     "name": "stdout",
     "output_type": "stream",
     "text": [
      "\\begin{tabular}{lrr}\n",
      " & S2 & S2_conf \\\\\n",
      "('serial_interval', 'NPI_start') & 0.06 & 0.07 \\\\\n",
      "('NPI_strength', 'NPI_start') & 0.05 & 0.05 \\\\\n",
      "('serial_interval', 'NPI_strength') & 0.04 & 0.06 \\\\\n",
      "('serial_interval', 'infectious_mild_time') & 0.02 & 0.06 \\\\\n",
      "('serial_interval', 'relative_carrier_infectability') & 0.02 & 0.07 \\\\\n",
      "('infectious_mild_time', 'NPI_strength') & 0.02 & 0.02 \\\\\n",
      "('serial_interval', 'seasonality') & 0.02 & 0.06 \\\\\n",
      "('serial_interval', 'infection_probability_from_contact') & 0.01 & 0.06 \\\\\n",
      "('infectious_mild_time', 'relative_carrier_infectability') & 0.01 & 0.02 \\\\\n",
      "('infectious_mild_time', 'infection_probability_from_contact') & 0.01 & 0.02 \\\\\n",
      "('serial_interval', 'hospitalized_to_ICU_time') & 0.01 & 0.06 \\\\\n",
      "('serial_interval', 'home_to_hospitalized_time') & 0.01 & 0.06 \\\\\n",
      "('infectious_mild_time', 'home_to_hospitalized_time') & 0.01 & 0.02 \\\\\n",
      "('infectious_mild_time', 'hospitalized_to_ICU_time') & 0.01 & 0.02 \\\\\n",
      "('relative_carrier_infectability', 'deaths_per_ICU') & 0.01 & 0.04 \\\\\n",
      "\\end{tabular}\n",
      "\n"
     ]
    }
   ],
   "source": [
    "second_Si = second_Si.sort_values(\"S2\", ascending = False)\n",
    "print(second_Si[:15].style.format(\"{:.2f}\").to_latex())"
   ]
  },
  {
   "cell_type": "markdown",
   "id": "9d41f8d5",
   "metadata": {},
   "source": [
    "##  Closed second order effect\n",
    "The closed effect is the sum of the first and second order effects yielding the effect (= the expected fractional reduction of output variance) if two indices are fixed."
   ]
  },
  {
   "cell_type": "code",
   "execution_count": 12,
   "id": "adcc0d2e",
   "metadata": {},
   "outputs": [],
   "source": [
    "second_closed_Si = []\n",
    "# compute closed second Si^c = (E[Y | Xi, Xj])\n",
    "for i in range(len(second_Si)):\n",
    "    second_closed_Si.append(first_Si.loc[second_Si.index[i][0]][\"S1\"]\n",
    "                            +first_Si.loc[second_Si.index[i][1]][\"S1\"]\n",
    "                            +second_Si.iloc[i][\"S2\"]\n",
    "                           )\n",
    "    "
   ]
  },
  {
   "cell_type": "code",
   "execution_count": 13,
   "id": "8116c78c",
   "metadata": {},
   "outputs": [],
   "source": [
    "second_Si[\"S2_closed\"] = second_closed_Si"
   ]
  },
  {
   "cell_type": "code",
   "execution_count": 14,
   "id": "360de0f3",
   "metadata": {},
   "outputs": [
    {
     "name": "stdout",
     "output_type": "stream",
     "text": [
      "\\begin{tabular}{lrrr}\n",
      " & S2 & S2_conf & S2_closed \\\\\n",
      "('serial_interval', 'NPI_start') & 0.06 & 0.07 & 0.49 \\\\\n",
      "('serial_interval', 'NPI_strength') & 0.04 & 0.06 & 0.43 \\\\\n",
      "('serial_interval', 'relative_carrier_infectability') & 0.02 & 0.07 & 0.41 \\\\\n",
      "('NPI_strength', 'NPI_start') & 0.05 & 0.05 & 0.33 \\\\\n",
      "('serial_interval', 'seasonality') & 0.02 & 0.06 & 0.30 \\\\\n",
      "('serial_interval', 'infection_probability_from_contact') & 0.01 & 0.06 & 0.30 \\\\\n",
      "('serial_interval', 'infectious_mild_time') & 0.02 & 0.06 & 0.30 \\\\\n",
      "('serial_interval', 'hospitalized_to_ICU_time') & 0.01 & 0.06 & 0.30 \\\\\n",
      "('serial_interval', 'risk_of_infection_from_symptomatic') & 0.01 & 0.06 & 0.29 \\\\\n",
      "('serial_interval', 'init') & 0.01 & 0.06 & 0.29 \\\\\n",
      "('serial_interval', 'ICU_cases_per_hospitalized') & 0.01 & 0.06 & 0.29 \\\\\n",
      "('serial_interval', 'home_to_hospitalized_time') & 0.01 & 0.06 & 0.28 \\\\\n",
      "('serial_interval', 'ICU_to_home_time') & 0.01 & 0.06 & 0.28 \\\\\n",
      "('serial_interval', 'hospitalized_to_home_time') & 0.01 & 0.06 & 0.28 \\\\\n",
      "('serial_interval', 'ICU_to_death_time') & 0.01 & 0.06 & 0.28 \\\\\n",
      "('serial_interval', 'deaths_per_ICU') & 0.01 & 0.06 & 0.28 \\\\\n",
      "('serial_interval', 'asymptotic_cases_per_infectious') & 0.01 & 0.06 & 0.28 \\\\\n",
      "('serial_interval', 'test_and_trace_capacity') & 0.01 & 0.06 & 0.28 \\\\\n",
      "('serial_interval', 'hospitalized_cases_per_infectious') & 0.01 & 0.06 & 0.28 \\\\\n",
      "('incubation_time', 'serial_interval') & -0.00 & 0.01 & 0.28 \\\\\n",
      "\\end{tabular}\n",
      "\n"
     ]
    }
   ],
   "source": [
    "print(second_Si.sort_values(\"S2_closed\", ascending = False)[:20].style.format(\"{:.2f}\").to_latex())"
   ]
  },
  {
   "cell_type": "code",
   "execution_count": null,
   "id": "d69da24f",
   "metadata": {},
   "outputs": [],
   "source": []
  }
 ],
 "metadata": {
  "kernelspec": {
   "display_name": "Python 3 (ipykernel)",
   "language": "python",
   "name": "python3"
  },
  "language_info": {
   "codemirror_mode": {
    "name": "ipython",
    "version": 3
   },
   "file_extension": ".py",
   "mimetype": "text/x-python",
   "name": "python",
   "nbconvert_exporter": "python",
   "pygments_lexer": "ipython3",
   "version": "3.8.10"
  }
 },
 "nbformat": 4,
 "nbformat_minor": 5
}
