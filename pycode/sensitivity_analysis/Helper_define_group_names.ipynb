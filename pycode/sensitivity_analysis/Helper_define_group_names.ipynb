{
 "cells": [
  {
   "cell_type": "code",
   "execution_count": 8,
   "id": "d9dab7fc",
   "metadata": {},
   "outputs": [],
   "source": [
    "import pickle\n",
    "import numpy as np"
   ]
  },
  {
   "cell_type": "code",
   "execution_count": 39,
   "id": "b4a54859",
   "metadata": {},
   "outputs": [],
   "source": [
    "# Define Comartment names\n",
    "compartments = ['susceptible', 'exposed', 'carrier', 'infected', 'hospitalized', 'icu', 'recovered', 'dead']\n",
    "Compartments = ['Susceptible', 'Exposed', 'Carrier', 'Infected', 'Hospitalized', 'ICU', 'Recovered', 'Dead']\n",
    "# Define age Groups\n",
    "groups = ['0-4', '5-14', '15-34', '35-59', '60-79', '80+']\n",
    "path_simulation_result = 'Studies/Sobol_MC_1_InfectedDead.pkl'\n",
    "path_data = 'data/worldometer_data.txt'"
   ]
  },
  {
   "cell_type": "code",
   "execution_count": 40,
   "id": "55bff145",
   "metadata": {},
   "outputs": [],
   "source": [
    "with open(path_simulation_result, 'rb') as f:\n",
    "    size = pickle.load(f)\n",
    "    input_factor_names = pickle.load(f)\n",
    "    distributions = pickle.load(f) # saved as coll (collection of distributions)\n",
    "    static_params = pickle.load(f)\n",
    "    inputDesign = pickle.load(f)\n",
    "    sim_out = pickle.load(f)\n",
    "    runtime = pickle.load(f)"
   ]
  },
  {
   "cell_type": "code",
   "execution_count": 42,
   "id": "fc4abdde",
   "metadata": {},
   "outputs": [
    {
     "data": {
      "text/plain": [
       "dict_keys(['dummy', 'incubation_time', 'serial_interval', 'infectious_mild_time', 'hospitalized_to_ICU_time', 'risk_of_infection_from_symptomatic', 'max_risk_of_infection_from_symptomatic', 'seasonality', 'test_and_trace_capacity', 'NPI_strength_home', 'NPI_strength_school', 'NPI_strength_work', 'NPI_strength_other', 'NPI_start_day_home', 'NPI_start_day_school', 'NPI_start_day_work', 'NPI_start_day_other', 'hospitalized_to_home_time_0', 'hospitalized_to_home_time_1', 'hospitalized_to_home_time_2', 'hospitalized_to_home_time_3', 'hospitalized_to_home_time_4', 'hospitalized_to_home_time_5', 'home_to_hospitalized_time_0', 'home_to_hospitalized_time_1', 'home_to_hospitalized_time_2', 'home_to_hospitalized_time_3', 'home_to_hospitalized_time_4', 'home_to_hospitalized_time_5', 'ICU_to_home_time_0', 'ICU_to_home_time_1', 'ICU_to_home_time_2', 'ICU_to_home_time_3', 'ICU_to_home_time_4', 'ICU_to_home_time_5', 'ICU_to_death_time_0', 'ICU_to_death_time_1', 'ICU_to_death_time_2', 'ICU_to_death_time_3', 'ICU_to_death_time_4', 'ICU_to_death_time_5', 'infection_probability_from_contact_0', 'infection_probability_from_contact_1', 'infection_probability_from_contact_2', 'infection_probability_from_contact_3', 'infection_probability_from_contact_4', 'infection_probability_from_contact_5', 'relative_carrier_infectability_0', 'relative_carrier_infectability_1', 'relative_carrier_infectability_2', 'relative_carrier_infectability_3', 'relative_carrier_infectability_4', 'relative_carrier_infectability_5', 'asymptotic_cases_per_infectious_0', 'asymptotic_cases_per_infectious_1', 'asymptotic_cases_per_infectious_2', 'asymptotic_cases_per_infectious_3', 'asymptotic_cases_per_infectious_4', 'asymptotic_cases_per_infectious_5', 'hospitalized_cases_per_infectious_0', 'hospitalized_cases_per_infectious_1', 'hospitalized_cases_per_infectious_2', 'hospitalized_cases_per_infectious_3', 'hospitalized_cases_per_infectious_4', 'hospitalized_cases_per_infectious_5', 'ICU_cases_per_hospitalized_0', 'ICU_cases_per_hospitalized_1', 'ICU_cases_per_hospitalized_2', 'ICU_cases_per_hospitalized_3', 'ICU_cases_per_hospitalized_4', 'ICU_cases_per_hospitalized_5', 'deaths_per_ICU_0', 'deaths_per_ICU_1', 'deaths_per_ICU_2', 'deaths_per_ICU_3', 'deaths_per_ICU_4', 'deaths_per_ICU_5', 'init_exposed', 'init_carrier', 'init_infected'])"
      ]
     },
     "execution_count": 42,
     "metadata": {},
     "output_type": "execute_result"
    }
   ],
   "source": [
    "dist_dict = {}\n",
    "for i in range(len(input_factor_names)):\n",
    "    dist_dict[input_factor_names[i]] = [distributions[i].getA(), distributions[i].getB()]\n",
    "dist_dict.keys()"
   ]
  },
  {
   "cell_type": "code",
   "execution_count": 43,
   "id": "4c3eba06",
   "metadata": {},
   "outputs": [
    {
     "name": "stdout",
     "output_type": "stream",
     "text": [
      "{'init': 0, 'NPI_strength': 1, 'NPI_start': 2, 'hospitalized_to_home_time': 3, 'home_to_hospitalized_time': 4, 'ICU_to_home_time': 5, 'ICU_to_death_time': 6, 'infection_probability_from_contact': 7, 'relative_carrier_infectability': 8, 'asymptotic_cases_per_infectious': 9, 'hospitalized_cases_per_infectious': 10, 'ICU_cases_per_hospitalized': 11, 'deaths_per_ICU': 12, 'dummy': 13, 'incubation_time': 14, 'serial_interval': 15, 'infectious_mild_time': 16, 'hospitalized_to_ICU_time': 17, 'risk_of_infection_from_symptomatic': 18, 'seasonality': 19, 'test_and_trace_capacity': 20}\n"
     ]
    }
   ],
   "source": [
    "group_list = np.zeros(len(input_factor_names))\n",
    "group_names = [\n",
    "    # compartment_dependent\n",
    "    \"init\", \n",
    "    # location dependent\n",
    "    \"NPI_strength\",\n",
    "    \"NPI_start\",\n",
    "    # age dependent\n",
    "    \"hospitalized_to_home_time\",\n",
    "    \"home_to_hospitalized_time\",\n",
    "    \"ICU_to_home_time\",\n",
    "    \"ICU_to_death_time\",\n",
    "    \"infection_probability_from_contact\",\n",
    "    \"relative_carrier_infectability\",\n",
    "    \"asymptotic_cases_per_infectious\",\n",
    "    \"hospitalized_cases_per_infectious\",\n",
    "    \"ICU_cases_per_hospitalized\",\n",
    "    \"deaths_per_ICU\",\n",
    "    # other parameters\n",
    "    'dummy',\n",
    "    'incubation_time',\n",
    "    'serial_interval',\n",
    "    'infectious_mild_time',\n",
    "    'hospitalized_to_ICU_time',\n",
    "    'risk_of_infection_from_symptomatic',\n",
    "    'seasonality',\n",
    "    'test_and_trace_capacity'\n",
    "]    \n",
    "\n",
    "group_ids = dict(zip(group_names, range(len(group_names))))\n",
    "print(group_ids)"
   ]
  },
  {
   "cell_type": "code",
   "execution_count": 44,
   "id": "e7d51a64",
   "metadata": {},
   "outputs": [],
   "source": [
    "compartment = [\"initial_infections\"]\n",
    "location = [\n",
    "    \"NPI_strength\",\n",
    "    \"NPI_start\",]\n",
    "age = [\n",
    "      \"hospitalized_to_home_time\",\n",
    "    \"home_to_hospitalized_time\",\n",
    "    \"ICU_to_home_time\",\n",
    "    \"ICU_to_death_time\",\n",
    "    \"infection_probability_from_contact\",\n",
    "    \"relative_carrier_infectability\",\n",
    "    \"asymptotic_cases_per_infectious\",\n",
    "    \"hospitalized_cases_per_infectious\",\n",
    "    \"ICU_cases_per_hospitalized\",\n",
    "    \"deaths_per_ICU\",  \n",
    "    ]\n",
    "other = [\n",
    "    'dummy',\n",
    "    'incubation_time',\n",
    "    'serial_interval',\n",
    "    'infectious_mild_time',\n",
    "    'hospitalized_to_ICU_time',\n",
    "    'risk_of_infection_from_symptomatic',\n",
    "    'seasonality', \n",
    "    'test_and_trace_capacity'\n",
    "    ]      "
   ]
  },
  {
   "cell_type": "code",
   "execution_count": 45,
   "id": "d44a1c96",
   "metadata": {},
   "outputs": [
    {
     "name": "stdout",
     "output_type": "stream",
     "text": [
      "['dummy', 'incubation_time', 'serial_interval', 'infectious_mild_time', 'hospitalized_to_ICU_time', 'risk_of_infection_from_symptomatic', 'risk_of_infection_from_symptomatic', 'seasonality', 'test_and_trace_capacity', 'NPI_strength', 'NPI_strength', 'NPI_strength', 'NPI_strength', 'NPI_start', 'NPI_start', 'NPI_start', 'NPI_start', 'hospitalized_to_home_time', 'hospitalized_to_home_time', 'hospitalized_to_home_time', 'hospitalized_to_home_time', 'hospitalized_to_home_time', 'hospitalized_to_home_time', 'home_to_hospitalized_time', 'home_to_hospitalized_time', 'home_to_hospitalized_time', 'home_to_hospitalized_time', 'home_to_hospitalized_time', 'home_to_hospitalized_time', 'ICU_to_home_time', 'ICU_to_home_time', 'ICU_to_home_time', 'ICU_to_home_time', 'ICU_to_home_time', 'ICU_to_home_time', 'ICU_to_death_time', 'ICU_to_death_time', 'ICU_to_death_time', 'ICU_to_death_time', 'ICU_to_death_time', 'ICU_to_death_time', 'infection_probability_from_contact', 'infection_probability_from_contact', 'infection_probability_from_contact', 'infection_probability_from_contact', 'infection_probability_from_contact', 'infection_probability_from_contact', 'relative_carrier_infectability', 'relative_carrier_infectability', 'relative_carrier_infectability', 'relative_carrier_infectability', 'relative_carrier_infectability', 'relative_carrier_infectability', 'asymptotic_cases_per_infectious', 'asymptotic_cases_per_infectious', 'asymptotic_cases_per_infectious', 'asymptotic_cases_per_infectious', 'asymptotic_cases_per_infectious', 'asymptotic_cases_per_infectious', 'hospitalized_cases_per_infectious', 'hospitalized_cases_per_infectious', 'hospitalized_cases_per_infectious', 'hospitalized_cases_per_infectious', 'hospitalized_cases_per_infectious', 'hospitalized_cases_per_infectious', 'ICU_cases_per_hospitalized', 'ICU_cases_per_hospitalized', 'ICU_cases_per_hospitalized', 'ICU_cases_per_hospitalized', 'ICU_cases_per_hospitalized', 'ICU_cases_per_hospitalized', 'deaths_per_ICU', 'deaths_per_ICU', 'deaths_per_ICU', 'deaths_per_ICU', 'deaths_per_ICU', 'deaths_per_ICU', 'init', 'init', 'init']\n",
      "80\n"
     ]
    }
   ],
   "source": [
    "groups = [name for factor_name in input_factor_names for name in group_names if (name in factor_name) ]\n",
    "print(groups)\n",
    "print(len(groups))"
   ]
  },
  {
   "cell_type": "code",
   "execution_count": 46,
   "id": "a4daa9c4",
   "metadata": {},
   "outputs": [],
   "source": [
    "dist_dict = {}\n",
    "for i in range(len(input_factor_names)):\n",
    "    dist_dict[input_factor_names[i]] = groups[i]\n"
   ]
  },
  {
   "cell_type": "code",
   "execution_count": 47,
   "id": "0cfec54f",
   "metadata": {},
   "outputs": [
    {
     "data": {
      "text/plain": [
       "{'dummy': 'dummy',\n",
       " 'incubation_time': 'incubation_time',\n",
       " 'serial_interval': 'serial_interval',\n",
       " 'infectious_mild_time': 'infectious_mild_time',\n",
       " 'hospitalized_to_ICU_time': 'hospitalized_to_ICU_time',\n",
       " 'risk_of_infection_from_symptomatic': 'risk_of_infection_from_symptomatic',\n",
       " 'max_risk_of_infection_from_symptomatic': 'risk_of_infection_from_symptomatic',\n",
       " 'seasonality': 'seasonality',\n",
       " 'test_and_trace_capacity': 'test_and_trace_capacity',\n",
       " 'NPI_strength_home': 'NPI_strength',\n",
       " 'NPI_strength_school': 'NPI_strength',\n",
       " 'NPI_strength_work': 'NPI_strength',\n",
       " 'NPI_strength_other': 'NPI_strength',\n",
       " 'NPI_start_day_home': 'NPI_start',\n",
       " 'NPI_start_day_school': 'NPI_start',\n",
       " 'NPI_start_day_work': 'NPI_start',\n",
       " 'NPI_start_day_other': 'NPI_start',\n",
       " 'hospitalized_to_home_time_0': 'hospitalized_to_home_time',\n",
       " 'hospitalized_to_home_time_1': 'hospitalized_to_home_time',\n",
       " 'hospitalized_to_home_time_2': 'hospitalized_to_home_time',\n",
       " 'hospitalized_to_home_time_3': 'hospitalized_to_home_time',\n",
       " 'hospitalized_to_home_time_4': 'hospitalized_to_home_time',\n",
       " 'hospitalized_to_home_time_5': 'hospitalized_to_home_time',\n",
       " 'home_to_hospitalized_time_0': 'home_to_hospitalized_time',\n",
       " 'home_to_hospitalized_time_1': 'home_to_hospitalized_time',\n",
       " 'home_to_hospitalized_time_2': 'home_to_hospitalized_time',\n",
       " 'home_to_hospitalized_time_3': 'home_to_hospitalized_time',\n",
       " 'home_to_hospitalized_time_4': 'home_to_hospitalized_time',\n",
       " 'home_to_hospitalized_time_5': 'home_to_hospitalized_time',\n",
       " 'ICU_to_home_time_0': 'ICU_to_home_time',\n",
       " 'ICU_to_home_time_1': 'ICU_to_home_time',\n",
       " 'ICU_to_home_time_2': 'ICU_to_home_time',\n",
       " 'ICU_to_home_time_3': 'ICU_to_home_time',\n",
       " 'ICU_to_home_time_4': 'ICU_to_home_time',\n",
       " 'ICU_to_home_time_5': 'ICU_to_home_time',\n",
       " 'ICU_to_death_time_0': 'ICU_to_death_time',\n",
       " 'ICU_to_death_time_1': 'ICU_to_death_time',\n",
       " 'ICU_to_death_time_2': 'ICU_to_death_time',\n",
       " 'ICU_to_death_time_3': 'ICU_to_death_time',\n",
       " 'ICU_to_death_time_4': 'ICU_to_death_time',\n",
       " 'ICU_to_death_time_5': 'ICU_to_death_time',\n",
       " 'infection_probability_from_contact_0': 'infection_probability_from_contact',\n",
       " 'infection_probability_from_contact_1': 'infection_probability_from_contact',\n",
       " 'infection_probability_from_contact_2': 'infection_probability_from_contact',\n",
       " 'infection_probability_from_contact_3': 'infection_probability_from_contact',\n",
       " 'infection_probability_from_contact_4': 'infection_probability_from_contact',\n",
       " 'infection_probability_from_contact_5': 'infection_probability_from_contact',\n",
       " 'relative_carrier_infectability_0': 'relative_carrier_infectability',\n",
       " 'relative_carrier_infectability_1': 'relative_carrier_infectability',\n",
       " 'relative_carrier_infectability_2': 'relative_carrier_infectability',\n",
       " 'relative_carrier_infectability_3': 'relative_carrier_infectability',\n",
       " 'relative_carrier_infectability_4': 'relative_carrier_infectability',\n",
       " 'relative_carrier_infectability_5': 'relative_carrier_infectability',\n",
       " 'asymptotic_cases_per_infectious_0': 'asymptotic_cases_per_infectious',\n",
       " 'asymptotic_cases_per_infectious_1': 'asymptotic_cases_per_infectious',\n",
       " 'asymptotic_cases_per_infectious_2': 'asymptotic_cases_per_infectious',\n",
       " 'asymptotic_cases_per_infectious_3': 'asymptotic_cases_per_infectious',\n",
       " 'asymptotic_cases_per_infectious_4': 'asymptotic_cases_per_infectious',\n",
       " 'asymptotic_cases_per_infectious_5': 'asymptotic_cases_per_infectious',\n",
       " 'hospitalized_cases_per_infectious_0': 'hospitalized_cases_per_infectious',\n",
       " 'hospitalized_cases_per_infectious_1': 'hospitalized_cases_per_infectious',\n",
       " 'hospitalized_cases_per_infectious_2': 'hospitalized_cases_per_infectious',\n",
       " 'hospitalized_cases_per_infectious_3': 'hospitalized_cases_per_infectious',\n",
       " 'hospitalized_cases_per_infectious_4': 'hospitalized_cases_per_infectious',\n",
       " 'hospitalized_cases_per_infectious_5': 'hospitalized_cases_per_infectious',\n",
       " 'ICU_cases_per_hospitalized_0': 'ICU_cases_per_hospitalized',\n",
       " 'ICU_cases_per_hospitalized_1': 'ICU_cases_per_hospitalized',\n",
       " 'ICU_cases_per_hospitalized_2': 'ICU_cases_per_hospitalized',\n",
       " 'ICU_cases_per_hospitalized_3': 'ICU_cases_per_hospitalized',\n",
       " 'ICU_cases_per_hospitalized_4': 'ICU_cases_per_hospitalized',\n",
       " 'ICU_cases_per_hospitalized_5': 'ICU_cases_per_hospitalized',\n",
       " 'deaths_per_ICU_0': 'deaths_per_ICU',\n",
       " 'deaths_per_ICU_1': 'deaths_per_ICU',\n",
       " 'deaths_per_ICU_2': 'deaths_per_ICU',\n",
       " 'deaths_per_ICU_3': 'deaths_per_ICU',\n",
       " 'deaths_per_ICU_4': 'deaths_per_ICU',\n",
       " 'deaths_per_ICU_5': 'deaths_per_ICU',\n",
       " 'init_exposed': 'init',\n",
       " 'init_carrier': 'init',\n",
       " 'init_infected': 'init'}"
      ]
     },
     "execution_count": 47,
     "metadata": {},
     "output_type": "execute_result"
    }
   ],
   "source": [
    "dist_dict"
   ]
  },
  {
   "cell_type": "code",
   "execution_count": 48,
   "id": "27a72e9f",
   "metadata": {},
   "outputs": [],
   "source": [
    "with open('data/input_factor_groups.pkl', 'wb') as f:\n",
    "    pickle.dump(dist_dict, f)"
   ]
  },
  {
   "cell_type": "code",
   "execution_count": null,
   "id": "06dec213",
   "metadata": {},
   "outputs": [],
   "source": [
    "with open(path_simulation_result, 'rb') as f:\n",
    "    size = pickle.load(f)\n",
    "    input_factor_names = pickle.load(f)\n",
    "    distributions = pickle.load(f) # saved as coll (collection of distributions)\n",
    "    static_params = pickle.load(f)\n",
    "    inputDesign = pickle.load(f)\n",
    "    sim_out = pickle.load(f)\n",
    "    runtime = pickle.load(f)"
   ]
  }
 ],
 "metadata": {
  "kernelspec": {
   "display_name": "Python 3 (ipykernel)",
   "language": "python",
   "name": "python3"
  },
  "language_info": {
   "codemirror_mode": {
    "name": "ipython",
    "version": 3
   },
   "file_extension": ".py",
   "mimetype": "text/x-python",
   "name": "python",
   "nbconvert_exporter": "python",
   "pygments_lexer": "ipython3",
   "version": "3.8.10"
  }
 },
 "nbformat": 4,
 "nbformat_minor": 5
}
