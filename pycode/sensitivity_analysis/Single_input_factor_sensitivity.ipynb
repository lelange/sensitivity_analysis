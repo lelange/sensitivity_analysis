{
 "cells": [
  {
   "cell_type": "code",
   "execution_count": 1,
   "id": "b6183384",
   "metadata": {},
   "outputs": [],
   "source": [
    "import numpy as np\n",
    "import pandas as pd\n",
    "import matplotlib.pyplot as plt\n",
    "from matplotlib import cm\n",
    "from datetime import datetime, date\n",
    "import time\n",
    "import seaborn as sns\n",
    "plt.style.use(\"seaborn\")\n",
    "import pickle\n",
    "\n",
    "from __future__ import print_function\n",
    "import openturns as ot\n",
    "import openturns.viewer as viewer\n",
    "ot.Log.Show(ot.Log.NONE)"
   ]
  },
  {
   "cell_type": "code",
   "execution_count": 2,
   "id": "1101a049",
   "metadata": {},
   "outputs": [],
   "source": [
    "# Define Comartment names\n",
    "Compartments = ['Susceptible', 'Exposed', 'Carrier', 'Infected', 'Hospitalized', 'ICU', 'Recovered', 'Dead']\n",
    "compartments = ['susceptible', 'exposed', 'carrier', 'infected', 'hospitalized', 'ICU', 'recovered', 'dead']\n",
    "# Define age Groups\n",
    "groups = ['0-4', '5-14', '15-34', '35-59', '60-79', '80+']"
   ]
  },
  {
   "cell_type": "code",
   "execution_count": 3,
   "id": "9cb5b7bc",
   "metadata": {},
   "outputs": [
    {
     "name": "stdout",
     "output_type": "stream",
     "text": [
      "N_outer: 10 \n",
      "N_inner: 100 \n",
      "nb input_factor_names: 79 \n",
      "input_factor_i: deaths_per_ICU_5 \n",
      "distribution i: Uniform(a = 0.5, b = 0.7) \n",
      "Output indices: [7] \n"
     ]
    }
   ],
   "source": [
    "with open('Studies/MC_deaths_per_ICU_5_10_100_Dead.pkl', 'rb') as f:\n",
    "    N_outer = pickle.load(f)\n",
    "    N_inner = pickle.load(f)\n",
    "    input_factor_names = pickle.load(f)\n",
    "    distributions = pickle.load(f)\n",
    "    static_params = pickle.load(f)\n",
    "    input_factor_i = pickle.load(f)\n",
    "    dist_i = pickle.load(f)\n",
    "    outs = pickle.load(f)\n",
    "    \n",
    "print(f\"N_outer: {N_outer} \")\n",
    "print(f\"N_inner: {N_inner} \")\n",
    "print(f\"nb input_factor_names: {len(input_factor_names)} \")\n",
    "print(f\"input_factor_i: {input_factor_i} \")\n",
    "print(f\"distribution i: {dist_i} \")\n",
    "print(f\"Output indices: {static_params['output_index']} \")"
   ]
  },
  {
   "cell_type": "code",
   "execution_count": null,
   "id": "0449f1d9",
   "metadata": {},
   "outputs": [],
   "source": []
  },
  {
   "cell_type": "code",
   "execution_count": null,
   "id": "c8773e03",
   "metadata": {},
   "outputs": [],
   "source": [
    "ot.RandomGenerator.SetSeed(0)\n",
    "ot.MonteCarloExperiment(distributions, N_outer).generate()"
   ]
  }
 ],
 "metadata": {
  "kernelspec": {
   "display_name": "Python 3 (ipykernel)",
   "language": "python",
   "name": "python3"
  },
  "language_info": {
   "codemirror_mode": {
    "name": "ipython",
    "version": 3
   },
   "file_extension": ".py",
   "mimetype": "text/x-python",
   "name": "python",
   "nbconvert_exporter": "python",
   "pygments_lexer": "ipython3",
   "version": "3.8.10"
  }
 },
 "nbformat": 4,
 "nbformat_minor": 5
}
